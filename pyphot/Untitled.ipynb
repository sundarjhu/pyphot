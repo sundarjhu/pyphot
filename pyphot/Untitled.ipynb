{
 "cells": [
  {
   "cell_type": "markdown",
   "metadata": {},
   "source": [
    "# pyphot demonstration"
   ]
  },
  {
   "cell_type": "code",
   "execution_count": 49,
   "metadata": {
    "collapsed": false
   },
   "outputs": [],
   "source": [
    "\"\"\"Load necessary packages\"\"\"\n",
    "import pyphot #synthetic photometry\n",
    "from astropy.table import Table #synthetic photometry\n",
    "import numpy as np #input/output\n",
    "from astropy.io import fits #input/output\n",
    "from matplotlib import pyplot as plt #visualisation"
   ]
  },
  {
   "cell_type": "markdown",
   "metadata": {},
   "source": [
    "### pyphot defines two classes: Filter and Library. Each instance of the Filter class contains transmission information for one filter, and each instance of the Library class consists of a collection of Filter classes."
   ]
  },
  {
   "cell_type": "markdown",
   "metadata": {},
   "source": [
    "### Libraries are stored in the form of HDF5 files."
   ]
  },
  {
   "cell_type": "markdown",
   "metadata": {},
   "source": [
    "#### Load/view information from a library"
   ]
  },
  {
   "cell_type": "code",
   "execution_count": 50,
   "metadata": {
    "collapsed": false
   },
   "outputs": [],
   "source": [
    "\"\"\"Load entire HDF5 library\"\"\"\n",
    "libraryName='/Users/sundar/work/SAGE/1708/dustfitter/synphot_PhIReSSTARTer.hd5'\n",
    "filterLibrary = pyphot.get_library(fname=libraryName)"
   ]
  },
  {
   "cell_type": "code",
   "execution_count": 51,
   "metadata": {
    "collapsed": false
   },
   "outputs": [
    {
     "name": "stdout",
     "output_type": "stream",
     "text": [
      "HST_WFPC2_F791W\n",
      "HST_WFC3_F621M\n",
      "HST_WFC3_F125W\n",
      "ans_3300\n",
      "steward_h\n",
      "HST_ACS_WFC_F606W\n",
      "steward_j\n",
      "steward_k\n",
      "HST_WFC3_F680N\n"
     ]
    }
   ],
   "source": [
    "\"\"\"Names of the first ten filters available in the library\"\"\"\n",
    "filterNames = filterLibrary.get_library_content()\n",
    "for i in range(9):\n",
    "    print filterNames[i]"
   ]
  },
  {
   "cell_type": "markdown",
   "metadata": {},
   "source": [
    "#### Load/view information for a (set of) filter(s)"
   ]
  },
  {
   "cell_type": "code",
   "execution_count": 52,
   "metadata": {
    "collapsed": true
   },
   "outputs": [],
   "source": [
    "\"\"\"Load information for a single filter\"\"\"\n",
    "ans_3300 = filterLibrary.load_filters(['ans_3300']) #result is a list, even for a single filter!\n",
    "\"\"\"Load information for a list of filters\"\"\"\n",
    "filters = filterLibrary.load_filters(['ans_3300', 'steward_k'])"
   ]
  },
  {
   "cell_type": "code",
   "execution_count": 53,
   "metadata": {
    "collapsed": false
   },
   "outputs": [
    {
     "name": "stdout",
     "output_type": "stream",
     "text": [
      "Filter object information:\n",
      "    name:                 ans_3300\n",
      "    detector type:        photon\n",
      "    wavelength units:     AA\n",
      "    central wavelength:   3292.836737 angstrom\n",
      "    pivot wavelength:     3292.709202 angstrom\n",
      "    effective wavelength: 3292.623065 angstrom\n",
      "    norm:                 36.965000\n",
      "    definition contains 23 points\n",
      "\n",
      "    Zeropoints\n",
      "        Vega: 21.196181 mag,\n",
      "              3.32297779849e-09 erg / angstrom * centimeter ** 2 * second,\n",
      "              1201.68535663 Jy\n",
      "          AB: 19.995715 mag,\n",
      "              1.00395430898e-08 erg / angstrom * centimeter ** 2 * second,\n",
      "              3630.59058769 Jy\n",
      "          ST: 21.100000 mag,\n",
      "              3.6307805477e-09 erg / angstrom * centimeter ** 2 * second,\n",
      "              1312.99577725 Jy\n",
      "        \n"
     ]
    }
   ],
   "source": [
    "\"\"\"View filter information\"\"\"\n",
    "ans_3300[0].info()"
   ]
  },
  {
   "cell_type": "markdown",
   "metadata": {},
   "source": [
    "#### The raw information required to define a filter is the wavelength (WITH UNITS!), transmission, and the detector type (i.e., whether it is a \"photon\" or \"energy\" counter). All the other infomation above is automatically computed for each filter."
   ]
  },
  {
   "cell_type": "markdown",
   "metadata": {},
   "source": [
    "### Users can define their own filters using the Filter class, and use them either temporarily or store them permanently in a Library class."
   ]
  },
  {
   "cell_type": "markdown",
   "metadata": {},
   "source": [
    "# Computing synthetic photometry using pyphot"
   ]
  },
  {
   "cell_type": "markdown",
   "metadata": {},
   "source": [
    "### Example 1: computing synthetic photometry for a single spectrum (Source: IRC+10216, instrument: ISO-SWS).\n",
    "#### (Uses the extractPhotometry method available in helpers.py)"
   ]
  },
  {
   "cell_type": "code",
   "execution_count": 54,
   "metadata": {
    "collapsed": true
   },
   "outputs": [],
   "source": [
    "\"\"\"filters in which synthetic photometry is desired\"\"\"\n",
    "filterNames = ['MCPS_U', 'MCPS_B', 'MCPS_U', 'MCPS_I', '2MASS_J', '2MASS_H', '2MASS_Ks',\n",
    "                   'SPITZER_IRAC_36', 'SPITZER_IRAC_45', 'SPITZER_IRAC_58', 'SPITZER_IRAC_80',\n",
    "                   'SPITZER_MIPS_24']"
   ]
  },
  {
   "cell_type": "code",
   "execution_count": 55,
   "metadata": {
    "collapsed": false
   },
   "outputs": [],
   "source": [
    "spec = np.loadtxt('/Users/sundar/work/SAGE/1708/dustfitter/demo/IRC+10216_ISO_SWS.dat', comments='#', usecols=(0,1))"
   ]
  },
  {
   "cell_type": "code",
   "execution_count": 56,
   "metadata": {
    "collapsed": false
   },
   "outputs": [],
   "source": [
    "libraryName = '/Users/sundar/work/SAGe/1708/dustfitter/synphot_PhIReSSTARTer.hd5'\n",
    "#Retrieve filter responses interpolated over the wavelength grid\n",
    "filterList = foo.loadFilters(filterNames, spec[:,0]*pyphot.unit['micron'], libraryName=libraryName)"
   ]
  },
  {
   "cell_type": "code",
   "execution_count": 57,
   "metadata": {
    "collapsed": false
   },
   "outputs": [
    {
     "name": "stdout",
     "output_type": "stream",
     "text": [
      "\r",
      "Photometry:|----------------------| 0/12  0% [time: 00:00, eta: ?, ? iters/sec]"
     ]
    },
    {
     "ename": "IndexError",
     "evalue": "list assignment index out of range",
     "output_type": "error",
     "traceback": [
      "\u001b[0;31m---------------------------------------------------------------------------\u001b[0m",
      "\u001b[0;31mIndexError\u001b[0m                                Traceback (most recent call last)",
      "\u001b[0;32m<ipython-input-57-c0d1cf80f959>\u001b[0m in \u001b[0;36m<module>\u001b[0;34m()\u001b[0m\n\u001b[1;32m      1\u001b[0m \u001b[0;31m#Upon execution, cls contains the central wavelengths for each filter, and sed the\u001b[0m\u001b[0;34m\u001b[0m\u001b[0;34m\u001b[0m\u001b[0m\n\u001b[1;32m      2\u001b[0m \u001b[0;31m#   synthetic photometry in that filter.\u001b[0m\u001b[0;34m\u001b[0m\u001b[0;34m\u001b[0m\u001b[0m\n\u001b[0;32m----> 3\u001b[0;31m \u001b[0mcls\u001b[0m\u001b[0;34m,\u001b[0m \u001b[0msed\u001b[0m \u001b[0;34m=\u001b[0m \u001b[0mpyphot\u001b[0m\u001b[0;34m.\u001b[0m\u001b[0mextractPhotometry\u001b[0m\u001b[0;34m(\u001b[0m\u001b[0mspec\u001b[0m\u001b[0;34m[\u001b[0m\u001b[0;34m:\u001b[0m\u001b[0;34m,\u001b[0m\u001b[0;36m0\u001b[0m\u001b[0;34m]\u001b[0m\u001b[0;34m,\u001b[0m \u001b[0mspec\u001b[0m\u001b[0;34m[\u001b[0m\u001b[0;34m:\u001b[0m\u001b[0;34m,\u001b[0m\u001b[0;36m1\u001b[0m\u001b[0;34m]\u001b[0m\u001b[0;34m,\u001b[0m \u001b[0mfilterList\u001b[0m\u001b[0;34m,\u001b[0m \u001b[0mFnu\u001b[0m\u001b[0;34m=\u001b[0m\u001b[0mTrue\u001b[0m\u001b[0;34m,\u001b[0m \u001b[0mabsFlux\u001b[0m\u001b[0;34m=\u001b[0m\u001b[0mFalse\u001b[0m\u001b[0;34m)\u001b[0m\u001b[0;34m\u001b[0m\u001b[0m\n\u001b[0m\u001b[1;32m      4\u001b[0m \u001b[0mlamCen\u001b[0m \u001b[0;34m=\u001b[0m \u001b[0mnp\u001b[0m\u001b[0;34m.\u001b[0m\u001b[0marray\u001b[0m\u001b[0;34m(\u001b[0m\u001b[0;34m[\u001b[0m\u001b[0ma\u001b[0m\u001b[0;34m.\u001b[0m\u001b[0mmagnitude\u001b[0m \u001b[0;32mfor\u001b[0m \u001b[0ma\u001b[0m \u001b[0;32min\u001b[0m \u001b[0mcls\u001b[0m\u001b[0;34m]\u001b[0m\u001b[0;34m)\u001b[0m\u001b[0;34m\u001b[0m\u001b[0m\n\u001b[1;32m      5\u001b[0m \u001b[0mfig\u001b[0m \u001b[0;34m=\u001b[0m \u001b[0mplt\u001b[0m\u001b[0;34m.\u001b[0m\u001b[0mfigure\u001b[0m\u001b[0;34m(\u001b[0m\u001b[0;34m)\u001b[0m\u001b[0;34m\u001b[0m\u001b[0m\n",
      "\u001b[0;32m/usr/local/lib/python2.7/site-packages/pyphot/helpers.pyc\u001b[0m in \u001b[0;36mextractPhotometry\u001b[0;34m(lamb, spec, flist, absFlux, progress, Fnu)\u001b[0m\n\u001b[1;32m     70\u001b[0m         \u001b[0;32mif\u001b[0m \u001b[0mabsFlux\u001b[0m\u001b[0;34m:\u001b[0m\u001b[0;34m\u001b[0m\u001b[0m\n\u001b[1;32m     71\u001b[0m             \u001b[0ms0\u001b[0m \u001b[0;34m/=\u001b[0m \u001b[0mdistc\u001b[0m\u001b[0;34m\u001b[0m\u001b[0m\n\u001b[0;32m---> 72\u001b[0;31m         \u001b[0ma\u001b[0m \u001b[0;34m=\u001b[0m \u001b[0mtrapz\u001b[0m\u001b[0;34m(\u001b[0m\u001b[0mtmp\u001b[0m \u001b[0;34m*\u001b[0m \u001b[0ms0\u001b[0m\u001b[0;34m,\u001b[0m \u001b[0mlamb\u001b[0m\u001b[0;34m[\u001b[0m\u001b[0mxl\u001b[0m\u001b[0;34m]\u001b[0m\u001b[0;34m,\u001b[0m \u001b[0maxis\u001b[0m\u001b[0;34m=\u001b[0m\u001b[0;36m1\u001b[0m \u001b[0;34m)\u001b[0m\u001b[0;34m\u001b[0m\u001b[0m\n\u001b[0m\u001b[1;32m     73\u001b[0m         \u001b[0mb\u001b[0m \u001b[0;34m=\u001b[0m \u001b[0mtrapz\u001b[0m\u001b[0;34m(\u001b[0m\u001b[0mtmp\u001b[0m\u001b[0;34m,\u001b[0m \u001b[0mlamb\u001b[0m\u001b[0;34m[\u001b[0m\u001b[0mxl\u001b[0m\u001b[0;34m]\u001b[0m\u001b[0;34m)\u001b[0m\u001b[0;34m\u001b[0m\u001b[0m\n\u001b[1;32m     74\u001b[0m         \u001b[0mseds\u001b[0m\u001b[0;34m[\u001b[0m\u001b[0me\u001b[0m\u001b[0;34m]\u001b[0m \u001b[0;34m=\u001b[0m \u001b[0ma\u001b[0m \u001b[0;34m/\u001b[0m \u001b[0mb\u001b[0m \u001b[0;31m#Accounts for detector type and Fnu instead of Flambda\u001b[0m\u001b[0;34m\u001b[0m\u001b[0m\n",
      "\u001b[0;32m/usr/local/lib/python2.7/site-packages/numpy/lib/function_base.pyc\u001b[0m in \u001b[0;36mtrapz\u001b[0;34m(y, x, dx, axis)\u001b[0m\n\u001b[1;32m   4339\u001b[0m             \u001b[0;31m# reshape to correct shape\u001b[0m\u001b[0;34m\u001b[0m\u001b[0;34m\u001b[0m\u001b[0m\n\u001b[1;32m   4340\u001b[0m             \u001b[0mshape\u001b[0m \u001b[0;34m=\u001b[0m \u001b[0;34m[\u001b[0m\u001b[0;36m1\u001b[0m\u001b[0;34m]\u001b[0m\u001b[0;34m*\u001b[0m\u001b[0my\u001b[0m\u001b[0;34m.\u001b[0m\u001b[0mndim\u001b[0m\u001b[0;34m\u001b[0m\u001b[0m\n\u001b[0;32m-> 4341\u001b[0;31m             \u001b[0mshape\u001b[0m\u001b[0;34m[\u001b[0m\u001b[0maxis\u001b[0m\u001b[0;34m]\u001b[0m \u001b[0;34m=\u001b[0m \u001b[0md\u001b[0m\u001b[0;34m.\u001b[0m\u001b[0mshape\u001b[0m\u001b[0;34m[\u001b[0m\u001b[0;36m0\u001b[0m\u001b[0;34m]\u001b[0m\u001b[0;34m\u001b[0m\u001b[0m\n\u001b[0m\u001b[1;32m   4342\u001b[0m             \u001b[0md\u001b[0m \u001b[0;34m=\u001b[0m \u001b[0md\u001b[0m\u001b[0;34m.\u001b[0m\u001b[0mreshape\u001b[0m\u001b[0;34m(\u001b[0m\u001b[0mshape\u001b[0m\u001b[0;34m)\u001b[0m\u001b[0;34m\u001b[0m\u001b[0m\n\u001b[1;32m   4343\u001b[0m         \u001b[0;32melse\u001b[0m\u001b[0;34m:\u001b[0m\u001b[0;34m\u001b[0m\u001b[0m\n",
      "\u001b[0;31mIndexError\u001b[0m: list assignment index out of range"
     ]
    }
   ],
   "source": [
    "#Upon execution, cls contains the central wavelengths for each filter, and sed the\n",
    "#   synthetic photometry in that filter.\n",
    "cls, sed = pyphot.extractPhotometry(spec[:,0], spec[:,1], filterList, Fnu=True, absFlux=False)\n",
    "lamCen = np.array([a.magnitude for a in cls])\n",
    "fig = plt.figure()\n",
    "ax = fig.add_subplot(111)\n",
    "ax.plot(spec[:,0], spec[:,1], '--', label='ISO SWS spectrum')\n",
    "ax.plot(lamCen, sed, 'o', color='red', label='Synthetic photometry')\n",
    "ax.set_xlabel('Wavelength (micron)')\n",
    "ax.set_ylabel('Flux (Jy)', rotation=90.)\n",
    "for i in range(len(filterNames)):\n",
    "    ax.text(lamCen[i], sed[i]*1.2, filterNames[i], horizontalalignment='center', verticalalignment='bottom', fontsize=8, rotation=90.)\n",
    "plt.title('Example 1: IRC+10216')\n",
    "plt.show()\n"
   ]
  },
  {
   "cell_type": "code",
   "execution_count": null,
   "metadata": {
    "collapsed": true
   },
   "outputs": [],
   "source": []
  }
 ],
 "metadata": {
  "kernelspec": {
   "display_name": "Python 2",
   "language": "python",
   "name": "python2"
  },
  "language_info": {
   "codemirror_mode": {
    "name": "ipython",
    "version": 2
   },
   "file_extension": ".py",
   "mimetype": "text/x-python",
   "name": "python",
   "nbconvert_exporter": "python",
   "pygments_lexer": "ipython2",
   "version": "2.7.14"
  }
 },
 "nbformat": 4,
 "nbformat_minor": 2
}
