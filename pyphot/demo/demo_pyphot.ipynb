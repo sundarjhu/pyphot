{
 "cells": [
  {
   "cell_type": "markdown",
   "metadata": {},
   "source": [
    "# pyphot demonstration"
   ]
  },
  {
   "cell_type": "code",
   "execution_count": 25,
   "metadata": {
    "collapsed": false
   },
   "outputs": [],
   "source": [
    "\"\"\"Load necessary packages\"\"\"\n",
    "import pyphot #synthetic photometry\n",
    "from astropy.table import Table #synthetic photometry\n",
    "import numpy as np #input/output\n",
    "from astropy.io import fits #input/output\n",
    "from matplotlib import pyplot as plt #visualisation\n",
    "pkgdir = '/usr/local/lib/python2.7/site-packages/pyphot/' #Edit this depending on user\n",
    "libsdir = '/usr/local/lib/python2.7/site-packages/pyphot/libs/' #Edit this depending on user\n",
    "demodir = '/Users/sundar/work/pyphot/pyphot/demo/' #Edit this depending on user"
   ]
  },
  {
   "cell_type": "markdown",
   "metadata": {},
   "source": [
    "### pyphot defines two classes: Filter and Library. Each instance of the Filter class contains transmission information for one filter, and each instance of the Library class consists of a collection of Filter classes."
   ]
  },
  {
   "cell_type": "markdown",
   "metadata": {},
   "source": [
    "### Libraries are stored in the form of HDF5 files."
   ]
  },
  {
   "cell_type": "markdown",
   "metadata": {},
   "source": [
    "#### Load/view information from a library"
   ]
  },
  {
   "cell_type": "code",
   "execution_count": 26,
   "metadata": {
    "collapsed": false
   },
   "outputs": [],
   "source": [
    "\"\"\"Load entire HDF5 library\"\"\"\n",
    "libraryName=pkgdir+'libs/synphot_PhIReSSTARTer.hd5'\n",
    "filterLibrary = pyphot.get_library(fname=libraryName)"
   ]
  },
  {
   "cell_type": "code",
   "execution_count": 27,
   "metadata": {
    "collapsed": false
   },
   "outputs": [
    {
     "name": "stdout",
     "output_type": "stream",
     "text": [
      "HST_WFPC2_F791W\n",
      "HST_WFC3_F621M\n",
      "HST_WFC3_F125W\n",
      "ans_3300\n",
      "steward_h\n",
      "HST_ACS_WFC_F606W\n",
      "steward_j\n",
      "steward_k\n",
      "HST_WFC3_F680N\n"
     ]
    }
   ],
   "source": [
    "\"\"\"Names of the first ten filters available in the library\"\"\"\n",
    "filterNames = filterLibrary.get_library_content()\n",
    "for i in range(9):\n",
    "    print filterNames[i]"
   ]
  },
  {
   "cell_type": "markdown",
   "metadata": {},
   "source": [
    "#### Load/view information for a (set of) filter(s)"
   ]
  },
  {
   "cell_type": "code",
   "execution_count": 28,
   "metadata": {
    "collapsed": true
   },
   "outputs": [],
   "source": [
    "\"\"\"Load information for a single filter\"\"\"\n",
    "ans_3300 = filterLibrary.load_filters(['ans_3300']) #result is a list, even for a single filter!\n",
    "\"\"\"Load information for a list of filters\"\"\"\n",
    "filters = filterLibrary.load_filters(['ans_3300', 'steward_k'])"
   ]
  },
  {
   "cell_type": "code",
   "execution_count": 29,
   "metadata": {
    "collapsed": false
   },
   "outputs": [
    {
     "name": "stdout",
     "output_type": "stream",
     "text": [
      "Filter object information:\n",
      "    name:                 ans_3300\n",
      "    detector type:        photon\n",
      "    wavelength units:     AA\n",
      "    central wavelength:   3292.836737 angstrom\n",
      "    pivot wavelength:     3292.709202 angstrom\n",
      "    effective wavelength: 3292.623065 angstrom\n",
      "    norm:                 36.965000\n",
      "    definition contains 23 points\n",
      "\n",
      "    Zeropoints\n",
      "        Vega: 21.196181 mag,\n",
      "              3.32297779849e-09 erg / angstrom * centimeter ** 2 * second,\n",
      "              1201.68535663 Jy\n",
      "          AB: 19.995715 mag,\n",
      "              1.00395430898e-08 erg / angstrom * centimeter ** 2 * second,\n",
      "              3630.59058769 Jy\n",
      "          ST: 21.100000 mag,\n",
      "              3.6307805477e-09 erg / angstrom * centimeter ** 2 * second,\n",
      "              1312.99577725 Jy\n",
      "        \n"
     ]
    }
   ],
   "source": [
    "\"\"\"View filter information\"\"\"\n",
    "ans_3300[0].info()"
   ]
  },
  {
   "cell_type": "markdown",
   "metadata": {},
   "source": [
    "#### The raw information required to define a filter is the wavelength (WITH UNITS!), transmission, and the detector type (i.e., whether it is a \"photon\" or \"energy\" counter). All the other infomation above is automatically computed for each filter."
   ]
  },
  {
   "cell_type": "markdown",
   "metadata": {},
   "source": [
    "### Users can define their own filters using the Filter class, and use them either temporarily or store them permanently in a Library class."
   ]
  },
  {
   "cell_type": "markdown",
   "metadata": {},
   "source": [
    "# Computing synthetic photometry using pyphot"
   ]
  },
  {
   "cell_type": "code",
   "execution_count": 31,
   "metadata": {
    "collapsed": false
   },
   "outputs": [],
   "source": [
    "\"\"\"We will use the same set of filters for both examples below\"\"\"\n",
    "filterNames = ['MCPS_U', 'MCPS_B', 'MCPS_U', 'MCPS_I', '2MASS_J', '2MASS_H', '2MASS_Ks',\n",
    "                   'SPITZER_IRAC_36', 'SPITZER_IRAC_45', 'SPITZER_IRAC_58', 'SPITZER_IRAC_80',\n",
    "                   'SPITZER_MIPS_24']\n",
    "libraryName = libsdir+'synphot_PhIReSSTARTer.hd5'\n",
    "filterLibrary = pyphot.get_library(fname=libraryName)"
   ]
  },
  {
   "cell_type": "markdown",
   "metadata": {},
   "source": [
    "### Example 1: computing synthetic photometry for a single spectrum (Source: IRC+10216, instrument: ISO-SWS).\n",
    "#### (Uses the extractPhotometry method available in helpers.py)"
   ]
  },
  {
   "cell_type": "code",
   "execution_count": 33,
   "metadata": {
    "collapsed": false
   },
   "outputs": [],
   "source": [
    "#Input spectrum\n",
    "spec = np.loadtxt(demodir+'IRC+10216_ISO_SWS.dat', comments='#', usecols=(0,1))\n",
    "#Retrieve filter responses interpolated over input wavelength grid\n",
    "filterList = filterLibrary.load_filters(filterNames, interp=True, lamb=spec[:,0]*pyphot.unit['micron'])"
   ]
  },
  {
   "cell_type": "code",
   "execution_count": 34,
   "metadata": {
    "collapsed": false
   },
   "outputs": [
    {
     "name": "stdout",
     "output_type": "stream",
     "text": [
      "Photometry:|##########| 12/12 100% [time: 00:00, eta: 00:00, 3598.20 iters/sec]\n"
     ]
    }
   ],
   "source": [
    "#Upon execution, cls contains the central wavelengths for each filter, and sed the\n",
    "#   synthetic photometry in that filter.\n",
    "cls, sed = pyphot.extractPhotometry(spec[:,0], spec[:,1], filterList, Fnu=True, absFlux=False)\n",
    "lamCen = np.array([a.magnitude for a in cls])"
   ]
  },
  {
   "cell_type": "code",
   "execution_count": 35,
   "metadata": {
    "collapsed": false
   },
   "outputs": [],
   "source": [
    "#Plot results\n",
    "fig = plt.figure()\n",
    "ax = fig.add_subplot(111)\n",
    "ax.plot(spec[:,0], spec[:,1], '--', label='ISO SWS spectrum')\n",
    "ax.plot(lamCen, sed, 'o', color='red', label='Synthetic photometry')\n",
    "ax.set_xlabel('Wavelength (micron)')\n",
    "ax.set_ylabel('Flux (Jy)', rotation=90.)\n",
    "for i in range(len(filterNames)):\n",
    "    ax.text(lamCen[i], sed[i]*1.2, filterNames[i], horizontalalignment='center', verticalalignment='bottom', fontsize=8, rotation=90.)\n",
    "plt.title('Example 1: IRC+10216')\n",
    "plt.show()\n"
   ]
  },
  {
   "cell_type": "markdown",
   "metadata": {
    "collapsed": true
   },
   "source": [
    "### Example 2: computing synthetic photometry for the entire GRAMS carbon-star grid.\n",
    "#### (Users the GRAMS carbon-star grid FITS file, grams_c.fits.)"
   ]
  },
  {
   "cell_type": "code",
   "execution_count": 36,
   "metadata": {
    "collapsed": false
   },
   "outputs": [
    {
     "name": "stderr",
     "output_type": "stream",
     "text": [
      "WARNING: The following header keyword is invalid or follows an unrecognized non-standard convention:\n",
      " ------------------------------------------------------------------------------- [astropy.io.fits.card]\n",
      "WARNING: The following header keyword is invalid or follows an unrecognized non-standard convention:\n",
      " The GRAMS carbon-star grid (Srinivasan+, 2011)                                  [astropy.io.fits.card]\n",
      "WARNING: The following header keyword is invalid or follows an unrecognized non-standard convention:\n",
      " Grid of dust radiative transfer models for O-rich AGB and RSG stars             [astropy.io.fits.card]\n",
      "WARNING: The following header keyword is invalid or follows an unrecognized non-standard convention:\n",
      " NUMBER OF MODELS IN GRID: 12243                                                 [astropy.io.fits.card]\n",
      "WARNING: The following header keyword is invalid or follows an unrecognized non-standard convention:\n",
      " PHOTOSPHERES: The Z/Z_sun=0.33 models of                                        [astropy.io.fits.card]\n",
      "WARNING: The following header keyword is invalid or follows an unrecognized non-standard convention:\n",
      " Aringer et al. 2009 A&A 503, 913                                                [astropy.io.fits.card]\n",
      "WARNING: The following header keyword is invalid or follows an unrecognized non-standard convention:\n",
      " DUST: amorphous carbon (ACAR, Zubko et al. 1996 MNRAS 282, 1321) with 10% of Si [astropy.io.fits.card]\n",
      "WARNING: The following header keyword is invalid or follows an unrecognized non-standard convention:\n",
      " (Pegourie 1988 A&A 194, 335) by mass.                                           [astropy.io.fits.card]\n",
      "WARNING: The following header keyword is invalid or follows an unrecognized non-standard convention:\n",
      " GRAIN SIZE DISTRIBUTION: KMH (Kim et al. 1994 ApJ 422, 164) with size>0.01 \\mu  [astropy.io.fits.card]\n",
      "WARNING: The following header keyword is invalid or follows an unrecognized non-standard convention:\n",
      " WAVELENGTH RANGE OF OUTPUT SPECTRA: ~0.23 to ~180 \\mu m                         [astropy.io.fits.card]\n",
      "WARNING: The following header keyword is invalid or follows an unrecognized non-standard convention:\n",
      " DISTANCE: models are placed at LMC distance, 50 kpc                             [astropy.io.fits.card]\n",
      "WARNING: The following header keyword is invalid or follows an unrecognized non-standard convention:\n",
      " SYNTHETIC PHOTOMETRY AVAILABLE IN THE FOLLOWING FILTERS (IN ORDER):             [astropy.io.fits.card]\n",
      "WARNING: The following header keyword is invalid or follows an unrecognized non-standard convention:\n",
      " MCPSU, MCPSB, MCPSV, MCPSI, 2MASSJ, 2MASSH, 2MASSK, IRAC36, IRAC45, IRAC58      [astropy.io.fits.card]\n",
      "WARNING: The following header keyword is invalid or follows an unrecognized non-standard convention:\n",
      " IRAC58, IRAC80, MIPS24, MIPS70, MIPS160, AKARIN2, AKARIN3, AKARIN4, AKARIS7     [astropy.io.fits.card]\n",
      "WARNING: The following header keyword is invalid or follows an unrecognized non-standard convention:\n",
      " AKARIS7, AKARIS9W, AKARIS11, AKARIL15, AKARIL18W, AKARIL24, WISEW1, WISEW2      [astropy.io.fits.card]\n",
      "WARNING: The following header keyword is invalid or follows an unrecognized non-standard convention:\n",
      " WISEW2, WISEW3, WISEW4, ISOCAMLW2, ISOCAMLW3, MIRSI_KBAND, MIRSI4_9, MIRSI7_7   [astropy.io.fits.card]\n",
      "WARNING: The following header keyword is invalid or follows an unrecognized non-standard convention:\n",
      " MIRSI7_7, MIRSI8_7, MIRSI9_6, MIRSI10_5, MIRSI11_7, MIRSI12_28, MIRSI12_33      [astropy.io.fits.card]\n",
      "WARNING: The following header keyword is invalid or follows an unrecognized non-standard convention:\n",
      " MIRSI12_33, MIRSI18_5, MIRSI20_9, MIRSI24_5, GALEX_FUV, GALEX_NUV, SDSS_u       [astropy.io.fits.card]\n",
      "WARNING: The following header keyword is invalid or follows an unrecognized non-standard convention:\n",
      " SDSS_u, SDSS_g, SDSS_r, SDSS_i, SDSS_z, MIR_NBF_1, MIR_NBF_2, MIR_NBF_3         [astropy.io.fits.card]\n",
      "WARNING: The following header keyword is invalid or follows an unrecognized non-standard convention:\n",
      " MIR_NBF_3, MIR_NBF_4, MIR_NBF_5, MIR_NBF_6, MIR_NBF_7, MIR_NBF_8, MIR_NBF_9     [astropy.io.fits.card]\n",
      "WARNING: The following header keyword is invalid or follows an unrecognized non-standard convention:\n",
      " MIR_NBF_9, MIR_NBF_10, MIR_NBF_11, MIR_NBF_12, MIR_NBF_13, MIR_NBF_14           [astropy.io.fits.card]\n",
      "WARNING: The following header keyword is invalid or follows an unrecognized non-standard convention:\n",
      " MIR_NBF_14, MIR_NBF_15, MIR_NBF_16, MIR_NBF_17, MIR_NBF_18, MIR_NBF_19          [astropy.io.fits.card]\n",
      "WARNING: The following header keyword is invalid or follows an unrecognized non-standard convention:\n",
      " MIR_NBF_19, MIR_NBF_20, MIR_NBF_21, MIR_NBF_22, MIR_NBF_23, Rband, PACS70       [astropy.io.fits.card]\n",
      "WARNING: The following header keyword is invalid or follows an unrecognized non-standard convention:\n",
      " PACS70, PACS100, PACS160, SPIRE250, SPIRE350, SPIRE500, IRAS_12, IRAS_25        [astropy.io.fits.card]\n",
      "WARNING: The following header keyword is invalid or follows an unrecognized non-standard convention:\n",
      " IRAS_25, IRAS_60, IRAS_100                                                      [astropy.io.fits.card]\n"
     ]
    }
   ],
   "source": [
    "\"\"\"Read in the GRAMS C-star grid\"\"\"\n",
    "\"\"\"IGNORE WARNINGS\"\"\"\n",
    "hdulist = fits.open(demodir+'grams_c.fits')\n",
    "cg = hdulist[1].data\n",
    "hdulist.close()\n",
    "inlam = cg['LSPEC'][0] #input wavelength in micron\n",
    "infnu = cg['FSPEC'] #input flux grid in Jy\n",
    "#Retrieve filter responses interpolated over input wavelength grid\n",
    "filterList = filterLibrary.load_filters(filterNames, interp=True, lamb=inlam*pyphot.unit['micron'])"
   ]
  },
  {
   "cell_type": "code",
   "execution_count": null,
   "metadata": {
    "collapsed": false
   },
   "outputs": [
    {
     "name": "stdout",
     "output_type": "stream",
     "text": [
      "Photometry:|##########| 12/12 100% [time: 00:00, eta: 00:00, 241.97 iters/sec] \n"
     ]
    }
   ],
   "source": [
    "#Upon execution, cls contains the central wavelengths for each filter, and seds the\n",
    "#   synthetic photometry for each input spectrum in that filter.\n",
    "cls, seds = pyphot.extractSEDs(inlam, infnu, filterList, Fnu=True, absFlux=False)\n",
    "lamCen = np.array([a.magnitude for a in cls])"
   ]
  },
  {
   "cell_type": "code",
   "execution_count": null,
   "metadata": {
    "collapsed": false
   },
   "outputs": [],
   "source": [
    "#Plot results\n",
    "f, axarr = plt.subplots(2, 2)\n",
    "specnum = [0, 99, 10345, 3000]\n",
    "ct=0\n",
    "for i in range(2):\n",
    "    for j in range(2):\n",
    "        axarr[i,j].plot(inlam, infnu[specnum[ct],:], '--', label='GRAMS model spectrum #'+str(specnum[ct]+1))\n",
    "        axarr[i,j].plot(lamCen, seds[specnum[ct],:], 'o', color='red', label='Synthetic photometry')\n",
    "        if i==1:\n",
    "            axarr[i,j].set_xlabel('Wavelength (micron)')\n",
    "        if j==0:\n",
    "            axarr[i,j].set_ylabel('Flux (Jy)', rotation=90.)\n",
    "        #for k in range(len(filterNames)):\n",
    "        #    axarr[i,j].text(lamCen[k], seds[specnum[i+j],k]/40, filterNames[k], \n",
    "        #            horizontalalignment='left', verticalalignment='bottom', \n",
    "        #                    fontsize=8, rotation=90.)\n",
    "        axarr[i,j].set_xscale('log')\n",
    "        axarr[i,j].set_yscale('log')\n",
    "        axarr[i,j].set_title('Model spectrum #'+str(specnum[ct]+1), fontsize=10)\n",
    "        ct = ct + 1\n",
    "plt.setp([a.get_xticklabels() for a in axarr[0,:]], visible=False)\n",
    "#plt.setp([a.get_yticklabels() for a in axarr[:,1]], visible=False)\n",
    "plt.suptitle('Example 2: the GRAMS carbon-star grid', fontsize=12)\n",
    "plt.show()"
   ]
  },
  {
   "cell_type": "code",
   "execution_count": null,
   "metadata": {
    "collapsed": true
   },
   "outputs": [],
   "source": []
  }
 ],
 "metadata": {
  "kernelspec": {
   "display_name": "Python 2",
   "language": "python",
   "name": "python2"
  },
  "language_info": {
   "codemirror_mode": {
    "name": "ipython",
    "version": 2
   },
   "file_extension": ".py",
   "mimetype": "text/x-python",
   "name": "python",
   "nbconvert_exporter": "python",
   "pygments_lexer": "ipython2",
   "version": "2.7.14"
  }
 },
 "nbformat": 4,
 "nbformat_minor": 2
}
